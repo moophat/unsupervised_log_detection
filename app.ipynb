{
 "cells": [
  {
   "cell_type": "code",
   "execution_count": 1,
   "metadata": {},
   "outputs": [],
   "source": [
    "import datetime\n",
    "import os\n",
    "import preprocessing\n",
    "import BASE_LOG_ANALYSE\n",
    "import pandas as pd\n",
    "from multiprocess import Pool\n",
    "import urllib3\n",
    "from functools import partial\n",
    "urllib3.disable_warnings()\n",
    "import plotly.express as px\n",
    "import ipywidgets as widgets\n",
    "import ipydatagrid\n",
    "from IPython.display import display, HTML"
   ]
  },
  {
   "cell_type": "code",
   "execution_count": 2,
   "metadata": {},
   "outputs": [],
   "source": [
    "data = dict()\n",
    "entropy = dict()\n",
    "vectorizer = None"
   ]
  },
  {
   "cell_type": "code",
   "execution_count": 3,
   "metadata": {},
   "outputs": [],
   "source": [
    "def load_data_log_entity(folder, entity_name, hostname):\n",
    "    data1 = {'timestamp': [], 'message': []}\n",
    "    for filename in BASE_LOG_ANALYSE.get_file_list_by_filename_filter(folder, entity_name):\n",
    "        # Get file content - Start\n",
    "        if '.gz' in filename:\n",
    "            content = BASE_LOG_ANALYSE.read_gzip_file(filename)\n",
    "        else:\n",
    "            with open(filename, 'r', encoding=\"latin-1\") as f_in:\n",
    "                content = f_in.read()\n",
    "        # Get file content - End\n",
    "        # Parsing data to get time and info - Start\n",
    "        if 'messages' in filename:\n",
    "            for line in content.split('\\n'):\n",
    "                tokens = line.split(hostname)\n",
    "                if len(tokens) == 2:\n",
    "                    if '<' in tokens[0]:\n",
    "                        tokens[0] = tokens[0].split()[1]\n",
    "                    data1['timestamp'].append(tokens[0])\n",
    "                    data1['message'].append(tokens[1])\n",
    "        else:\n",
    "            for line in content.split('\\n'):\n",
    "                tokens = line.split(hostname)\n",
    "                if len(tokens) == 2:\n",
    "                    if '<' in tokens[0]:\n",
    "                        tokens[0] = tokens[0].split()[1]\n",
    "                    data1['timestamp'].append(tokens[0])\n",
    "                    data1['message'].append(tokens[1])\n",
    "        # Parsing data to get time and info - End    \n",
    "    return pd.DataFrame(data1)"
   ]
  },
  {
   "cell_type": "code",
   "execution_count": 4,
   "metadata": {},
   "outputs": [],
   "source": [
    "def training_data(folder, start, end, hostname):\n",
    "    df = load_data_log_entity(folder, 'messages*', hostname)\n",
    "    df['timestamp'] = pd.to_datetime(df['timestamp'])\n",
    "    df.sort_values(by=['timestamp'], inplace=True)\n",
    "    global entropy, vectorizer, data\n",
    "    data = dict()\n",
    "    data['message'] = df\n",
    "    training_data = {k: v[(v['timestamp'] >= start) & (v['timestamp'] < end)] for k, v in data.items()}\n",
    "    entropy, vectorizer = preprocessing.preprocess_training_data(training_data)\n",
    "    print(\"Training done!\")\n",
    "    js = \"<script>alert('Training Done!');</script>\"\n",
    "    display(HTML(js))\n",
    "    return \n",
    "\n",
    "def inspect_data(start, end):\n",
    "    inspect = {k: v[(v['timestamp'] >= start) & (v['timestamp'] < end)] for k, v in data.items()}['message']\n",
    "    return inspect"
   ]
  },
  {
   "cell_type": "code",
   "execution_count": 5,
   "metadata": {},
   "outputs": [],
   "source": [
    "def call_training_data(b, folder=None, start=None, end=None, hostname=None):\n",
    "    print(\"Run\")\n",
    "    training_data(folder.value, str(start.value), str(end.value), hostname.value)\n",
    "    "
   ]
  },
  {
   "cell_type": "code",
   "execution_count": 6,
   "metadata": {},
   "outputs": [],
   "source": [
    "def call_inspect_data(a, start, end):\n",
    "    x = inspect_data(str(start.value), str(end.value))\n",
    "    print(x.head())"
   ]
  },
  {
   "cell_type": "code",
   "execution_count": 7,
   "metadata": {},
   "outputs": [],
   "source": [
    "path = widgets.Textarea(\n",
    "    disabled=False,\n",
    "    description='Log path'\n",
    ")\n",
    "hostname = widgets.Text(\n",
    "    value='',\n",
    "    placeholder='Type hostname',\n",
    "    description='Hostname',\n",
    "    disabled=False\n",
    ")\n",
    "start_training = widgets.DatetimePicker(\n",
    "    description='Start training time',\n",
    "    disabled=False\n",
    ")\n",
    "end_training = widgets.DatetimePicker(\n",
    "    description='End training time',\n",
    "    disabled=False\n",
    ")\n",
    "train_button = widgets.Button(\n",
    "    description='Train data'\n",
    ")"
   ]
  },
  {
   "cell_type": "code",
   "execution_count": 8,
   "metadata": {},
   "outputs": [],
   "source": [
    "header = widgets.HTML(\"<h1>Unsupervised Log Anomaly Detection</h1>\")\n",
    "header.style.text_align='center'"
   ]
  },
  {
   "cell_type": "code",
   "execution_count": 9,
   "metadata": {},
   "outputs": [],
   "source": [
    "start_testing = widgets.DatetimePicker(\n",
    "    description='Start testing time',\n",
    "    disabled=False\n",
    ")\n",
    "end_testing = widgets.DatetimePicker(\n",
    "    description='End testing time',\n",
    "    disabled=False\n",
    ")\n",
    "test_button = widgets.Button(\n",
    "    description='Check test data'\n",
    ")\n",
    "inspect_button = widgets.Button(\n",
    "    description='Show log'\n",
    ")"
   ]
  },
  {
   "cell_type": "code",
   "execution_count": 10,
   "metadata": {},
   "outputs": [],
   "source": [
    "train_button.on_click(partial(call_training_data, folder=path, start=start_training, end=end_training, hostname=hostname))"
   ]
  },
  {
   "cell_type": "code",
   "execution_count": 11,
   "metadata": {},
   "outputs": [],
   "source": [
    "inspect_button.on_click(partial(call_inspect_data, start=start_testing, end=end_testing))"
   ]
  },
  {
   "cell_type": "code",
   "execution_count": 12,
   "metadata": {},
   "outputs": [],
   "source": [
    "app = widgets.AppLayout(\n",
    "    center=widgets.Textarea(\"test\"),\n",
    "    header=header,\n",
    "    left_sidebar=widgets.VBox([\n",
    "        path,\n",
    "        hostname,\n",
    "        start_training,\n",
    "        end_training,\n",
    "        train_button,\n",
    "        start_testing,\n",
    "        end_testing,\n",
    "        widgets.HBox([test_button, inspect_button])\n",
    "    ]),\n",
    "    right_sidebar=widgets.Textarea(\"test2\"),\n",
    "    footer=ipydatagrid.DataGrid(pd.DataFrame({'a': [1,2,3]})),\n",
    "    pane_widths=['500px', 1, 1],\n",
    "    pane_heights=['10px', 4, 1],\n",
    "    height='900px',\n",
    "    grid_gap=\"30px\"\n",
    ")"
   ]
  },
  {
   "cell_type": "code",
   "execution_count": 13,
   "metadata": {},
   "outputs": [
    {
     "data": {
      "application/vnd.jupyter.widget-view+json": {
       "model_id": "44abb7887dc649fdbeecdf2aa33659b5",
       "version_major": 2,
       "version_minor": 0
      },
      "text/plain": [
       "AppLayout(children=(HTML(value='<h1>Unsupervised Log Anomaly Detection</h1>', layout=Layout(grid_area='header'…"
      ]
     },
     "metadata": {},
     "output_type": "display_data"
    },
    {
     "name": "stdout",
     "output_type": "stream",
     "text": [
      "Run\n"
     ]
    },
    {
     "name": "stderr",
     "output_type": "stream",
     "text": [
      "/home/kien/SVTECH_CODE/Dev/unsupervised_log_detection/preprocessing.py:47: SettingWithCopyWarning: \n",
      "A value is trying to be set on a copy of a slice from a DataFrame.\n",
      "Try using .loc[row_indexer,col_indexer] = value instead\n",
      "\n",
      "See the caveats in the documentation: https://pandas.pydata.org/pandas-docs/stable/user_guide/indexing.html#returning-a-view-versus-a-copy\n",
      "  data['process'] = data['message'].map(preprocess)\n"
     ]
    },
    {
     "name": "stdout",
     "output_type": "stream",
     "text": [
      "Training done!\n"
     ]
    },
    {
     "data": {
      "text/html": [
       "<script>alert('Training Done!');</script>"
      ],
      "text/plain": [
       "<IPython.core.display.HTML object>"
      ]
     },
     "metadata": {},
     "output_type": "display_data"
    },
    {
     "name": "stdout",
     "output_type": "stream",
     "text": [
      "                              timestamp  \\\n",
      "672335 2021-03-01 11:00:00.001000+07:00   \n",
      "672336 2021-03-01 11:00:00.001000+07:00   \n",
      "672337 2021-03-01 11:05:00.005000+07:00   \n",
      "672338 2021-03-01 11:10:00.005000+07:00   \n",
      "672340 2021-03-01 11:15:00.001000+07:00   \n",
      "\n",
      "                                                  message  \n",
      "672335   /usr/sbin/cron 53581 - - (root) CMD (newsyslo...  \n",
      "672336   /usr/sbin/cron 53582 - - (root) CMD (   /usr/...  \n",
      "672337   /usr/sbin/cron 53585 - - (root) CMD (   /usr/...  \n",
      "672338   /usr/sbin/cron 53588 - - (root) CMD (   /usr/...  \n",
      "672340   /usr/sbin/cron 53593 - - (root) CMD (   /usr/...  \n"
     ]
    }
   ],
   "source": [
    "display(app)"
   ]
  }
 ],
 "metadata": {
  "kernelspec": {
   "display_name": "Python 3 (ipykernel)",
   "language": "python",
   "name": "python3"
  },
  "language_info": {
   "codemirror_mode": {
    "name": "ipython",
    "version": 3
   },
   "file_extension": ".py",
   "mimetype": "text/x-python",
   "name": "python",
   "nbconvert_exporter": "python",
   "pygments_lexer": "ipython3",
   "version": "3.9.7"
  }
 },
 "nbformat": 4,
 "nbformat_minor": 2
}
